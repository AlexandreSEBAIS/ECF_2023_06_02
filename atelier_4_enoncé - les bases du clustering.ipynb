{
 "cells": [
  {
   "cell_type": "markdown",
   "metadata": {},
   "source": [
    "# Atelier n°4: les bases du Clustering"
   ]
  },
  {
   "cell_type": "markdown",
   "metadata": {},
   "source": [
    "## Introduction aux données"
   ]
  },
  {
   "cell_type": "markdown",
   "metadata": {},
   "source": [
    "### Dataset\n",
    "+ Attributs: \n",
    "    - name: le nom de famille du sénateur\n",
    "    - party: parti politique du sénateur. Les valeurs sont D pour les démocrates, R pour les répulicains et I pour indépendant.\n",
    "    - Les colonnes numérotées 0001 etc. représentent les résultats d'un vote \n",
    "+ L'analyse des votes va nous permettre de découvrir les sénateurs qui sont au centre de leur partis. Par exemple dans le parti républicain il y en des sénateurs qui sont plus libéraux que d'autres.\n",
    "+ Lire le fichier 114_congress.csv dans un DataFrame nommé votes. Inspecter et afficher le dataset."
   ]
  },
  {
   "cell_type": "markdown",
   "metadata": {},
   "source": [
    "## Exploration des données"
   ]
  },
  {
   "cell_type": "markdown",
   "metadata": {},
   "source": [
    "+ Trouver combien de sénateurs sont présents dans chaque parti.\n",
    "+ Trouver quelle était la moyenne des voix pour chaque projet de loi.\n"
   ]
  },
  {
   "cell_type": "markdown",
   "metadata": {},
   "source": [
    "## Distance entre les sénateurs"
   ]
  },
  {
   "cell_type": "markdown",
   "metadata": {},
   "source": [
    "+ Calculer la distance euclidienne entre la première ligne et la 3e ligne.\n",
    "\n"
   ]
  },
  {
   "cell_type": "markdown",
   "metadata": {},
   "source": [
    "## Clustering manuel"
   ]
  },
  {
   "cell_type": "markdown",
   "metadata": {},
   "source": [
    "+ Commencer par sélectionner au hasard 2 sénateurs qui seront utilisés comme centroides initiaux\n",
    "+ Visualiser les centroïdes\n",
    "+ Assigner les points du dataset aux clusters\n",
    "+ Visualiser les clusters formés initialement\n",
    "+ Mettre à jour les nouveaux centroïdes du cluster\n",
    "+ Répéter ce process jusqu'à convergence (les centroïdes n'évoluent plus entre deux itérations consécutives)"
   ]
  },
  {
   "cell_type": "markdown",
   "metadata": {},
   "source": [
    "## Clustering via Scikit learn"
   ]
  },
  {
   "cell_type": "markdown",
   "metadata": {},
   "source": [
    "+ Créer une instance de la classe Kmeans assigné à la variable kmeans_model.\n",
    "+ Utiliser la méthode fit_transform() pour adapter kmeans_model au DataFrame votes. Sélectionner seulement les colonnes après les 3 première colonnes du DataFrame votes.\n",
    " - Assigner le résultat à la variable senator_distances.\n"
   ]
  },
  {
   "cell_type": "markdown",
   "metadata": {},
   "source": [
    "## Explorer les clusters"
   ]
  },
  {
   "cell_type": "markdown",
   "metadata": {},
   "source": [
    "+ Utiliser l'attribut labels_ pour extraire les labels de kmeans_model. Assigner le résultat à la variable labels.\n",
    "+ Utiliser la méthode crosstab() pour afficher un tableau comparant labels à votes[\"party\"] (dans cet ordre).\n"
   ]
  },
  {
   "cell_type": "markdown",
   "metadata": {},
   "source": [
    "## Explorer les Sénateurs dans le mauvais cluster\n"
   ]
  },
  {
   "cell_type": "markdown",
   "metadata": {},
   "source": [
    "+ Sélectionner tous les sénateurs qui ont été affectés au 2e cluster et qui sont des démocrates. Assigner le sous-ensemble à la variable democratic_outliers.\n",
    "+ Afficher le résultat democratic_outliers.\n"
   ]
  },
  {
   "cell_type": "markdown",
   "metadata": {},
   "source": [
    "## Tracer les clusters"
   ]
  },
  {
   "cell_type": "markdown",
   "metadata": {},
   "source": [
    "+ Créer un diagramme de dispersion en utilisant plt.scatter(). Avec les paramètres suivants:\n",
    " - x devrait être la première colonne de senator_distances.\n",
    " - y devrait être la seconde colonne de senator_distances.\n",
    " - c devrait être labels. Cela marquera les points en fonction de leurs labels.\n",
    "+ Utiliser plt.show() pour afficher le graphique.\n"
   ]
  }
 ],
 "metadata": {
  "kernelspec": {
   "display_name": "Python 3 (ipykernel)",
   "language": "python",
   "name": "python3"
  },
  "language_info": {
   "codemirror_mode": {
    "name": "ipython",
    "version": 3
   },
   "file_extension": ".py",
   "mimetype": "text/x-python",
   "name": "python",
   "nbconvert_exporter": "python",
   "pygments_lexer": "ipython3",
   "version": "3.9.13"
  }
 },
 "nbformat": 4,
 "nbformat_minor": 2
}
